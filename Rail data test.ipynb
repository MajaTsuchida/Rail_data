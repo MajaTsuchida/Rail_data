{
 "cells": [
  {
   "cell_type": "markdown",
   "id": "e461fc19-facc-4835-a6ba-83911ce43633",
   "metadata": {
    "editable": true,
    "slideshow": {
     "slide_type": "fragment"
    },
    "tags": []
   },
   "source": [
    "Hello world"
   ]
  },
  {
   "cell_type": "markdown",
   "id": "1590bdb7-5243-4aed-bc82-5ca254487132",
   "metadata": {
    "editable": true,
    "slideshow": {
     "slide_type": ""
    },
    "tags": []
   },
   "source": [
    "good bye cruel world"
   ]
  },
  {
   "cell_type": "markdown",
   "id": "6ac77fc2-4740-4adb-a9e3-b2fcff7fd7f3",
   "metadata": {
    "editable": true,
    "slideshow": {
     "slide_type": "slide"
    },
    "tags": []
   },
   "source": [
    "aaa"
   ]
  }
 ],
 "metadata": {
  "kernelspec": {
   "display_name": "Python 3 (ipykernel)",
   "language": "python",
   "name": "python3"
  },
  "language_info": {
   "codemirror_mode": {
    "name": "ipython",
    "version": 3
   },
   "file_extension": ".py",
   "mimetype": "text/x-python",
   "name": "python",
   "nbconvert_exporter": "python",
   "pygments_lexer": "ipython3",
   "version": "3.12.3"
  }
 },
 "nbformat": 4,
 "nbformat_minor": 5
}
